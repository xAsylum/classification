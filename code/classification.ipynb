{
 "cells": [
  {
   "cell_type": "code",
   "id": "initial_id",
   "metadata": {
    "collapsed": true,
    "ExecuteTime": {
     "end_time": "2025-04-26T10:18:41.172107Z",
     "start_time": "2025-04-26T10:18:40.607576Z"
    }
   },
   "source": [
    "from logistic_regression import LogisticRegression\n",
    "from utility import parse_data\n",
    "\n",
    "\n",
    "model = LogisticRegression(\"../rp.data\", n = 1000)\n",
    "model.select_fraction(1)\n",
    "model.fit()\n",
    "\n",
    "print(model.check_accuracy())"
   ],
   "outputs": [
    {
     "name": "stdout",
     "output_type": "stream",
     "text": [
      "0.2799094637023132\n",
      "(0.9203539823008849, 0.8426966292134831, 0.9493670886075949, 0.9047619047619048)\n"
     ]
    }
   ],
   "execution_count": 3
  },
  {
   "metadata": {
    "ExecuteTime": {
     "end_time": "2025-04-25T20:21:53.762709Z",
     "start_time": "2025-04-25T20:21:53.761122Z"
    }
   },
   "cell_type": "code",
   "source": "",
   "id": "38c88ab026aa4100",
   "outputs": [],
   "execution_count": null
  }
 ],
 "metadata": {
  "kernelspec": {
   "display_name": "Python 3",
   "language": "python",
   "name": "python3"
  },
  "language_info": {
   "codemirror_mode": {
    "name": "ipython",
    "version": 2
   },
   "file_extension": ".py",
   "mimetype": "text/x-python",
   "name": "python",
   "nbconvert_exporter": "python",
   "pygments_lexer": "ipython2",
   "version": "2.7.6"
  }
 },
 "nbformat": 4,
 "nbformat_minor": 5
}
